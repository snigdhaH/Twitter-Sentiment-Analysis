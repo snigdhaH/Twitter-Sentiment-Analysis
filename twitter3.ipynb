{
 "cells": [
  {
   "cell_type": "code",
   "execution_count": 2,
   "metadata": {},
   "outputs": [],
   "source": [
    "import tweepy\n",
    "import pandas as pd\n",
    "import re\n",
    "from textblob import TextBlob\n",
    "import matplotlib.pyplot as plt\n"
   ]
  },
  {
   "cell_type": "code",
   "execution_count": 4,
   "metadata": {},
   "outputs": [
    {
     "data": {
      "text/html": [
       "<div>\n",
       "<style scoped>\n",
       "    .dataframe tbody tr th:only-of-type {\n",
       "        vertical-align: middle;\n",
       "    }\n",
       "\n",
       "    .dataframe tbody tr th {\n",
       "        vertical-align: top;\n",
       "    }\n",
       "\n",
       "    .dataframe thead th {\n",
       "        text-align: right;\n",
       "    }\n",
       "</style>\n",
       "<table border=\"1\" class=\"dataframe\">\n",
       "  <thead>\n",
       "    <tr style=\"text-align: right;\">\n",
       "      <th></th>\n",
       "      <th>text</th>\n",
       "      <th>sentiment</th>\n",
       "    </tr>\n",
       "  </thead>\n",
       "  <tbody>\n",
       "    <tr>\n",
       "      <th>0</th>\n",
       "      <td>I`d have responded, if I were going</td>\n",
       "      <td>neutral</td>\n",
       "    </tr>\n",
       "    <tr>\n",
       "      <th>1</th>\n",
       "      <td>Sooo SAD I will miss you here in San Diego!!!</td>\n",
       "      <td>negative</td>\n",
       "    </tr>\n",
       "    <tr>\n",
       "      <th>2</th>\n",
       "      <td>my boss is bullying me...</td>\n",
       "      <td>negative</td>\n",
       "    </tr>\n",
       "    <tr>\n",
       "      <th>3</th>\n",
       "      <td>what interview! leave me alone</td>\n",
       "      <td>negative</td>\n",
       "    </tr>\n",
       "    <tr>\n",
       "      <th>4</th>\n",
       "      <td>Sons of ****, why couldn`t they put them on t...</td>\n",
       "      <td>negative</td>\n",
       "    </tr>\n",
       "  </tbody>\n",
       "</table>\n",
       "</div>"
      ],
      "text/plain": [
       "                                                text sentiment\n",
       "0                I`d have responded, if I were going   neutral\n",
       "1      Sooo SAD I will miss you here in San Diego!!!  negative\n",
       "2                          my boss is bullying me...  negative\n",
       "3                     what interview! leave me alone  negative\n",
       "4   Sons of ****, why couldn`t they put them on t...  negative"
      ]
     },
     "execution_count": 4,
     "metadata": {},
     "output_type": "execute_result"
    }
   ],
   "source": [
    "df = pd.read_csv('train.csv')\n",
    "df = df.drop(['textID','selected_text'], axis=1)\n",
    "df.head()\n"
   ]
  },
  {
   "cell_type": "code",
   "execution_count": 5,
   "metadata": {},
   "outputs": [
    {
     "data": {
      "text/plain": [
       "text         1\n",
       "sentiment    0\n",
       "dtype: int64"
      ]
     },
     "execution_count": 5,
     "metadata": {},
     "output_type": "execute_result"
    }
   ],
   "source": [
    "df.isnull().sum()\n"
   ]
  },
  {
   "cell_type": "code",
   "execution_count": 6,
   "metadata": {},
   "outputs": [
    {
     "data": {
      "text/plain": [
       "text         0\n",
       "sentiment    0\n",
       "dtype: int64"
      ]
     },
     "execution_count": 6,
     "metadata": {},
     "output_type": "execute_result"
    }
   ],
   "source": [
    "df.dropna(axis=0, inplace=True)\n",
    "df.isnull().sum()"
   ]
  },
  {
   "cell_type": "code",
   "execution_count": null,
   "metadata": {},
   "outputs": [
    {
     "data": {
      "text/plain": [
       "33"
      ]
     },
     "execution_count": 7,
     "metadata": {},
     "output_type": "execute_result"
    }
   ],
   "source": [
    "df['length'] = df.text.str.split().apply(len)\n",
    "max(df['length'])\n",
    "\n"
   ]
  },
  {
   "cell_type": "code",
   "execution_count": 10,
   "metadata": {},
   "outputs": [],
   "source": [
    "import seaborn as sns\n",
    "import matplotlib.pyplot as plt  # Just in case you're also using plt later\n",
    "\n"
   ]
  },
  {
   "cell_type": "code",
   "execution_count": 11,
   "metadata": {},
   "outputs": [
    {
     "data": {
      "text/plain": [
       "<seaborn.axisgrid.FacetGrid at 0x1075adc30>"
      ]
     },
     "execution_count": 11,
     "metadata": {},
     "output_type": "execute_result"
    },
    {
     "data": {
      "image/png": "[encoded data removed]",
      "text/plain": [
       "<Figure size 500x500 with 1 Axes>"
      ]
     },
     "metadata": {},
     "output_type": "display_data"
    }
   ],
   "source": [
    "sns.displot(df['length'])\n"
   ]
  },
  {
   "cell_type": "code",
   "execution_count": 12,
   "metadata": {},
   "outputs": [
    {
     "data": {
      "text/plain": [
       "<Axes: xlabel='count', ylabel='sentiment'>"
      ]
     },
     "execution_count": 12,
     "metadata": {},
     "output_type": "execute_result"
    },
    {
     "data": {
      "image/png": "[encoded data removed]",
      "text/plain": [
       "<Figure size 640x480 with 1 Axes>"
      ]
     },
     "metadata": {},
     "output_type": "display_data"
    }
   ],
   "source": [
    "sns.countplot(df['sentiment'])"
   ]
  },
  {
   "cell_type": "code",
   "execution_count": 13,
   "metadata": {},
   "outputs": [],
   "source": [
    "# df.sentiment = df.sentiment.replace({'positive': 2, 'neutral': 1, 'negative': 0})"
   ]
  },
  {
   "cell_type": "code",
   "execution_count": 14,
   "metadata": {},
   "outputs": [
    {
     "name": "stderr",
     "output_type": "stream",
     "text": [
      "[nltk_data] Downloading package stopwords to\n",
      "[nltk_data]     /Users/snigdhahalder/nltk_data...\n",
      "[nltk_data]   Package stopwords is already up-to-date!\n"
     ]
    }
   ],
   "source": [
    "import re\n",
    "import nltk\n",
    "from nltk.tokenize import TweetTokenizer\n",
    "from nltk.corpus import stopwords\n",
    "nltk.download('stopwords')\n",
    "from nltk.stem.porter import PorterStemmer\n",
    "import string\n",
    "\n",
    "class TweetCleaner:\n",
    "    def __init__(self):\n",
    "        self.tokenizer = TweetTokenizer(strip_handles=False, reduce_len=True)\n",
    "\n",
    "    def remove_urls(self, text):\n",
    "        \"\"\"Remove URLs from text\"\"\"\n",
    "        url_pattern = r'https?://\\S+|www\\.\\S+'\n",
    "        return re.sub(url_pattern, '', text)\n",
    "\n",
    "    def remove_mentions(self, text):\n",
    "        \"\"\"Remove @ mentions from text\"\"\"\n",
    "        mention_pattern = r'@\\w+'\n",
    "        return re.sub(mention_pattern, '', text)\n",
    "\n",
    "    def clean_hashtags(self, text):\n",
    "        \"\"\"Remove # symbol but keep the hashtag text\"\"\"\n",
    "        return re.sub(r'#(\\w+)', r'\\1', text)\n",
    "\n",
    "    def remove_punctuation_and_numbers(self, text):\n",
    "        \"\"\"Remove punctuation and numbers\"\"\"\n",
    "        text = re.sub(r'\\d+', '', text)\n",
    "        text = text.translate(str.maketrans('', '', string.punctuation))\n",
    "        return text\n",
    "\n",
    "    global remove_stopwords\n",
    "    def remove_stopwords(self, text):\n",
    "        \"\"\"Remove stopwords from text\"\"\"\n",
    "        stop_words = set(stopwords.words('english'))-negation_words\n",
    "        tokens = self.tokenizer.tokenize(text)\n",
    "        filtered_tokens = [word for word in tokens if word.lower() not in stop_words]\n",
    "        stemmer = PorterStemmer()\n",
    "        stem_token = [stemmer.stem(word) for word in filtered_tokens]\n",
    "        return ' '.join(stem_token)\n",
    "\n",
    "    def handle_negation(self, text):\n",
    "        \"\"\"\n",
    "        Add NEG_ prefix to words that follow a negation word until the next punctuation.\n",
    "\n",
    "        Args:\n",
    "            text (str): Input text that has already been cleaned\n",
    "\n",
    "        Returns:\n",
    "            str: Text with NEG_ prefix added to words after negation words\n",
    "        \"\"\"\n",
    "\n",
    "        global negation_words\n",
    "        negation_words = {'no', 'not', 'never', 'none', \"n't\", 'cannot', 'cant',\n",
    "                             'neither', 'nor', 'nothing', 'nowhere', 'nobody', 'hardly',\n",
    "                             'barely', 'scarcely', 'rarely'}\n",
    "\n",
    "        text = remove_stopwords(self, text)\n",
    "        words = text.split()\n",
    "        modified_words = []\n",
    "        negation = False\n",
    "\n",
    "        for i, word in enumerate(words):\n",
    "            # Check if current word is a negation\n",
    "            if word in negation_words or word.endswith(\"n't\"):\n",
    "                negation = True\n",
    "                modified_words.append(word)\n",
    "                continue\n",
    "\n",
    "            # Check if we should stop negation (punctuation or 3 words after negation)\n",
    "            if any(p in word for p in '.!?;:') or (negation and i > 2):\n",
    "                negation = False\n",
    "\n",
    "            # Add NEG_ prefix if we're in negation state\n",
    "            if negation:\n",
    "                modified_words.append('NEG_' + word)\n",
    "            else:\n",
    "                modified_words.append(word)\n",
    "\n",
    "        return ' '.join(modified_words)\n",
    "\n",
    "    def clean_tweet(self, tweet):\n",
    "        \"\"\"Clean tweet text using all preprocessing steps\"\"\"\n",
    "        tweet = tweet.lower()\n",
    "\n",
    "        # Apply each cleaning step\n",
    "        tweet = self.remove_urls(tweet)\n",
    "        tweet = self.remove_mentions(tweet)\n",
    "        tweet = self.clean_hashtags(tweet)\n",
    "        tweet = self.remove_punctuation_and_numbers(tweet)\n",
    "        tweet = self.handle_negation(tweet)\n",
    "\n",
    "        return tweet\n",
    "\n",
    "# # Example usage\n",
    "# if __name__ == \"__main__\":\n",
    "#     cleaner = TweetCleaner()\n",
    "\n",
    "#     # Test tweet with various elements to clean\n",
    "#     sample_tweets = [\n",
    "#         \"Check out this link https://example.com! @user #Python #coding is fun 123\",\n",
    "#         \"RT @developer: Just learned #DataScience at www.school.com - it's amazing!!!\",\n",
    "#         \"My temp is 98.6° @doctor #Health #Wellness\",\n",
    "#         \"@friend This is sooooo coooool! #awesome #technology https://t.co/123\"\n",
    "#     ]\n",
    "\n",
    "#     print(\"Original vs Cleaned Tweets:\\n\")\n",
    "#     for tweet in sample_tweets:\n",
    "#         cleaned = cleaner.clean_tweet(tweet)\n",
    "#         print(f\"Original: {tweet}\")\n",
    "#         print(f\"Cleaned:  {cleaned}\")\n",
    "#         print()"
   ]
  },
  {
   "cell_type": "code",
   "execution_count": 15,
   "metadata": {},
   "outputs": [],
   "source": [
    "cleaner = TweetCleaner()\n",
    "df['clean_text'] = df['text'].apply(cleaner.clean_tweet)"
   ]
  },
  {
   "cell_type": "code",
   "execution_count": 16,
   "metadata": {},
   "outputs": [],
   "source": [
    "X = df['clean_text']\n",
    "y = df['sentiment']"
   ]
  },
  {
   "cell_type": "code",
   "execution_count": 18,
   "metadata": {},
   "outputs": [],
   "source": [
    "from sklearn.model_selection import train_test_split\n",
    "X_train, X_test, y_train, y_test = train_test_split(X, y, test_size=0.2, random_state=42)"
   ]
  },
  {
   "cell_type": "code",
   "execution_count": 19,
   "metadata": {},
   "outputs": [],
   "source": [
    "from sklearn.feature_extraction.text import TfidfVectorizer\n",
    "tfidf_vectorizer = TfidfVectorizer(stop_words='english')\n",
    "X_train = tfidf_vectorizer.fit_transform(X_train)\n",
    "X_test = tfidf_vectorizer.transform(X_test)"
   ]
  },
  {
   "cell_type": "code",
   "execution_count": 20,
   "metadata": {},
   "outputs": [
    {
     "data": {
      "text/plain": [
       "(21984, 18914)"
      ]
     },
     "execution_count": 20,
     "metadata": {},
     "output_type": "execute_result"
    }
   ],
   "source": [
    "X_train.shape"
   ]
  },
  {
   "cell_type": "code",
   "execution_count": 21,
   "metadata": {},
   "outputs": [
    {
     "name": "stdout",
     "output_type": "stream",
     "text": [
      "Accuracy: 0.7074235807860262\n"
     ]
    }
   ],
   "source": [
    "from sklearn.ensemble import RandomForestClassifier\n",
    "from sklearn.metrics import accuracy_score, classification_report, confusion_matrix\n",
    "\n",
    "rf_classifier = RandomForestClassifier(n_estimators=100, random_state=42)\n",
    "rf_classifier.fit(X_train, y_train)\n",
    "\n",
    "y_pred = rf_classifier.predict(X_test)\n",
    "accuracy = accuracy_score(y_test, y_pred)\n",
    "print(f\"Accuracy: {accuracy}\")"
   ]
  },
  {
   "cell_type": "code",
   "execution_count": 22,
   "metadata": {},
   "outputs": [
    {
     "data": {
      "text/plain": [
       "array([[ 931,  529,  112],\n",
       "       [ 257, 1642,  337],\n",
       "       [  65,  308, 1315]])"
      ]
     },
     "execution_count": 22,
     "metadata": {},
     "output_type": "execute_result"
    }
   ],
   "source": [
    "confusion_matrix(y_test, y_pred)"
   ]
  },
  {
   "cell_type": "code",
   "execution_count": 23,
   "metadata": {},
   "outputs": [
    {
     "data": {
      "text/plain": [
       "<Axes: >"
      ]
     },
     "execution_count": 23,
     "metadata": {},
     "output_type": "execute_result"
    },
    {
     "data": {
      "image/png": "[encoded data removed]",
      "text/plain": [
       "<Figure size 640x480 with 2 Axes>"
      ]
     },
     "metadata": {},
     "output_type": "display_data"
    }
   ],
   "source": [
    "sns.heatmap(confusion_matrix(y_test, y_pred),annot=True, fmt=\"d\")"
   ]
  },
  {
   "cell_type": "code",
   "execution_count": 24,
   "metadata": {},
   "outputs": [
    {
     "name": "stdout",
     "output_type": "stream",
     "text": [
      "              precision    recall  f1-score   support\n",
      "\n",
      "    negative       0.74      0.59      0.66      1572\n",
      "     neutral       0.66      0.73      0.70      2236\n",
      "    positive       0.75      0.78      0.76      1688\n",
      "\n",
      "    accuracy                           0.71      5496\n",
      "   macro avg       0.72      0.70      0.71      5496\n",
      "weighted avg       0.71      0.71      0.71      5496\n",
      "\n"
     ]
    }
   ],
   "source": [
    "print(classification_report(y_test, y_pred))"
   ]
  },
  {
   "cell_type": "code",
   "execution_count": 25,
   "metadata": {},
   "outputs": [
    {
     "name": "stdout",
     "output_type": "stream",
     "text": [
      "['negative']\n"
     ]
    }
   ],
   "source": [
    "text = 'it is a  not good day but i am sad'\n",
    "cleaned = cleaner.clean_tweet(text)\n",
    "vector = tfidf_vectorizer.transform([cleaned])\n",
    "prediction = rf_classifier.predict(vector)\n",
    "print(prediction)"
   ]
  },
  {
   "cell_type": "code",
   "execution_count": null,
   "metadata": {},
   "outputs": [],
   "source": [
    "\n"
   ]
  },
  {
   "cell_type": "code",
   "execution_count": null,
   "metadata": {},
   "outputs": [],
   "source": []
  },
  {
   "cell_type": "code",
   "execution_count": 26,
   "metadata": {},
   "outputs": [
    {
     "name": "stdout",
     "output_type": "stream",
     "text": [
      "Accuracy: 0.6613901018922853\n"
     ]
    },
    {
     "data": {
      "text/plain": [
       "array([[ 950,  471,  151],\n",
       "       [ 396, 1464,  376],\n",
       "       [ 119,  348, 1221]])"
      ]
     },
     "execution_count": 26,
     "metadata": {},
     "output_type": "execute_result"
    }
   ],
   "source": [
    "from sklearn.tree import DecisionTreeClassifier\n",
    "dt_classifier = DecisionTreeClassifier(min_samples_split=2, min_samples_leaf=1)\n",
    "dt_classifier.fit(X_train, y_train)\n",
    "\n",
    "dt_pred = dt_classifier.predict(X_test)\n",
    "accuracy = accuracy_score(y_test, dt_pred)\n",
    "print(f\"Accuracy: {accuracy}\")\n",
    "confusion_matrix(y_test, dt_pred)"
   ]
  },
  {
   "cell_type": "code",
   "execution_count": 27,
   "metadata": {},
   "outputs": [
    {
     "name": "stdout",
     "output_type": "stream",
     "text": [
      "Accuracy: 0.37754730713246\n"
     ]
    },
    {
     "data": {
      "text/plain": [
       "array([[1113,  184,  275],\n",
       "       [1452,  258,  526],\n",
       "       [ 799,  185,  704]])"
      ]
     },
     "execution_count": 27,
     "metadata": {},
     "output_type": "execute_result"
    }
   ],
   "source": [
    "from sklearn.naive_bayes import GaussianNB\n",
    "gnb = GaussianNB()\n",
    "gnb.fit(X_train.toarray(), y_train)\n",
    "\n",
    "gnb_pred = gnb.predict(X_test.toarray())\n",
    "accuracy = accuracy_score(y_test, gnb_pred)\n",
    "print(f\"Accuracy: {accuracy}\")\n",
    "confusion_matrix(y_test, gnb_pred)"
   ]
  },
  {
   "cell_type": "code",
   "execution_count": null,
   "metadata": {},
   "outputs": [
    {
     "name": "stdout",
     "output_type": "stream",
     "text": [
      "Logistic Regression Accuracy: 0.6872270742358079\n"
     ]
    }
   ],
   "source": [
    "import matplotlib.pyplot as plt\n",
    "from sklearn.linear_model import LogisticRegression\n",
    "\n",
    "lr_classifier = LogisticRegression(random_state=42, max_iter=1000) # Increased max_iter for convergence\n",
    "lr_classifier.fit(X_train, y_train)\n",
    "\n",
    "lr_pred = lr_classifier.predict(X_test)\n",
    "accuracy = accuracy_score(y_test, lr_pred)\n",
    "print(f\"Logistic Regression Accuracy: {accuracy}\")"
   ]
  },
  {
   "cell_type": "code",
   "execution_count": 3,
   "metadata": {},
   "outputs": [],
   "source": [
    "import pickle\n",
    "\n",
    "# Replace these with your actual model and vectorizer variables\n",
    "# Example: model = RandomForestClassifier(), vectorizer = TfidfVectorizer()\n",
    "\n",
    "# Save Random Forest model\n",
    "with open(\"random_forest_model.pkl\", \"wb\") as model_file:\n",
    "    pickle.dump(model, model_file)\n",
    "\n",
    "# Save the vectorizer\n",
    "with open(\"text_vectorizer.pkl\", \"wb\") as vec_file:\n",
    "    pickle.dump(vectorizer, vec_file)\n"
   ]
  },
  {
   "cell_type": "code",
   "execution_count": null,
   "metadata": {},
   "outputs": [],
   "source": []
  }
 ],
 "metadata": {
  "colab": {
   "provenance": []
  },
  "kernelspec": {
   "display_name": ".venv",
   "language": "python",
   "name": "python3"
  },
  "language_info": {
   "codemirror_mode": {
    "name": "ipython",
    "version": 3
   },
   "file_extension": ".py",
   "mimetype": "text/x-python",
   "name": "python",
   "nbconvert_exporter": "python",
   "pygments_lexer": "ipython3",
   "version": "3.10.5"
  }
 },
 "nbformat": 4,
 "nbformat_minor": 4
}
